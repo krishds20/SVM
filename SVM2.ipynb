{
  "nbformat": 4,
  "nbformat_minor": 0,
  "metadata": {
    "colab": {
      "provenance": [],
      "authorship_tag": "ABX9TyOVR/hHQX2PVFuCNpyuJJ7H",
      "include_colab_link": true
    },
    "kernelspec": {
      "name": "python3",
      "display_name": "Python 3"
    },
    "language_info": {
      "name": "python"
    }
  },
  "cells": [
    {
      "cell_type": "markdown",
      "metadata": {
        "id": "view-in-github",
        "colab_type": "text"
      },
      "source": [
        "<a href=\"https://colab.research.google.com/github/krishds20/SVM/blob/main/SVM2.ipynb\" target=\"_parent\"><img src=\"https://colab.research.google.com/assets/colab-badge.svg\" alt=\"Open In Colab\"/></a>"
      ]
    },
    {
      "cell_type": "code",
      "execution_count": null,
      "metadata": {
        "id": "MGwGApBD-var"
      },
      "outputs": [],
      "source": [
        "import pandas as pd\n",
        "import numpy as np\n",
        "import random"
      ]
    },
    {
      "cell_type": "code",
      "source": [
        "from sklearn.model_selection import train_test_split\n",
        "from sklearn.compose import ColumnTransformer\n",
        "from sklearn.preprocessing import OneHotEncoder,StandardScaler,LabelEncoder\n",
        "from sklearn.metrics import accuracy_score,precision_score,f1_score,recall_score"
      ],
      "metadata": {
        "id": "l4wm-jd1_AtQ"
      },
      "execution_count": null,
      "outputs": []
    },
    {
      "cell_type": "code",
      "source": [
        "df=pd.read_csv('/content/sample_data/drug adverse reaction.csv')"
      ],
      "metadata": {
        "id": "0Ii6aw0Y_Ap5"
      },
      "execution_count": null,
      "outputs": []
    },
    {
      "cell_type": "code",
      "source": [
        "df.info()"
      ],
      "metadata": {
        "colab": {
          "base_uri": "https://localhost:8080/"
        },
        "id": "6HjDbaKI_AnL",
        "outputId": "9b1196cd-5100-4b39-8b51-d0a82fbbc6d8"
      },
      "execution_count": null,
      "outputs": [
        {
          "output_type": "stream",
          "name": "stdout",
          "text": [
            "<class 'pandas.core.frame.DataFrame'>\n",
            "RangeIndex: 7386 entries, 0 to 7385\n",
            "Data columns (total 11 columns):\n",
            " #   Column                Non-Null Count  Dtype  \n",
            "---  ------                --------------  -----  \n",
            " 0   age                   7386 non-null   int64  \n",
            " 1   sex                   7386 non-null   object \n",
            " 2   height_cm             7386 non-null   float64\n",
            " 3   weight_kg             7386 non-null   float64\n",
            " 4   BMI                   7386 non-null   float64\n",
            " 5   medical_history       5927 non-null   object \n",
            " 6   drug_name             7386 non-null   object \n",
            " 7   condition             7386 non-null   object \n",
            " 8   dosage_mg             7386 non-null   int64  \n",
            " 9   side_effect           6332 non-null   object \n",
            " 10  side_effect_severity  6332 non-null   object \n",
            "dtypes: float64(3), int64(2), object(6)\n",
            "memory usage: 634.9+ KB\n"
          ]
        }
      ]
    },
    {
      "cell_type": "code",
      "source": [
        "df['side_effect']=df['side_effect'].fillna('No Side Efffect')"
      ],
      "metadata": {
        "id": "jlmBGTdf_Aks"
      },
      "execution_count": null,
      "outputs": []
    },
    {
      "cell_type": "code",
      "source": [
        "features=['age','sex','height_cm','weight_kg','BMI','medical_history','drug_name','dosage_mg']\n",
        "x=df[features]\n",
        "y=df['side_effect']"
      ],
      "metadata": {
        "id": "iEFHZ0XF_AiM"
      },
      "execution_count": null,
      "outputs": []
    },
    {
      "cell_type": "code",
      "source": [
        "le=LabelEncoder()\n",
        "y_encoded=le.fit_transform(y)"
      ],
      "metadata": {
        "id": "Uf91Ke1r_Afs"
      },
      "execution_count": null,
      "outputs": []
    },
    {
      "cell_type": "code",
      "source": [
        "num_features=['age','height_cm','weight_kg','BMI','dosage_mg']\n",
        "cat_features=['sex','medical_history','drug_name']"
      ],
      "metadata": {
        "id": "1cBgrS0P_AdF"
      },
      "execution_count": null,
      "outputs": []
    },
    {
      "cell_type": "code",
      "source": [
        "preprocessor=ColumnTransformer(\n",
        "    transformers=[\n",
        "        ('num',StandardScaler(),num_features),\n",
        "        ('cat',OneHotEncoder(handle_unknown='ignore'),cat_features)\n",
        "    ]\n",
        ")"
      ],
      "metadata": {
        "id": "SgkRxELf_Leb"
      },
      "execution_count": null,
      "outputs": []
    },
    {
      "cell_type": "code",
      "source": [
        "X_transformed=preprocessor.fit_transform(x)"
      ],
      "metadata": {
        "id": "dezHgm11_LbF"
      },
      "execution_count": null,
      "outputs": []
    },
    {
      "cell_type": "code",
      "source": [
        "x_train,x_test,y_train,y_test=train_test_split(X_transformed,y_encoded,test_size=0.2,random_state=42)"
      ],
      "metadata": {
        "id": "RZve7G-6_LYj"
      },
      "execution_count": null,
      "outputs": []
    },
    {
      "cell_type": "code",
      "source": [
        "from sklearn.svm import SVC"
      ],
      "metadata": {
        "id": "fFUbY9Yt_LV5"
      },
      "execution_count": null,
      "outputs": []
    },
    {
      "cell_type": "code",
      "source": [
        "models={\n",
        "\n",
        "    'SVM':SVC(probability=True,random_state=42),\n",
        "\n",
        "}"
      ],
      "metadata": {
        "id": "ZY0NSfLB_WL6"
      },
      "execution_count": null,
      "outputs": []
    },
    {
      "cell_type": "code",
      "source": [
        "print(\"=== scikit-learn Model Results (Predicting Side Effect) ===\")\n",
        "for name, model in models.items():\n",
        "  model.fit(x_train,y_train)\n",
        "  y_pred=model.predict(x_test)\n",
        "  print(f\"{name} Metrics:\")\n",
        "  print(f\"Accuracy: {accuracy_score(y_test,y_pred)}\")\n",
        "  print(f\"Precision: {precision_score(y_test,y_pred,average='weighted')}\")\n",
        "  print(f\"Recall: {recall_score(y_test,y_pred,average='weighted')}\")\n",
        "  print(f\"F1 Score: {f1_score(y_test,y_pred,average='weighted')}\")\n",
        "  print( )"
      ],
      "metadata": {
        "colab": {
          "base_uri": "https://localhost:8080/"
        },
        "id": "3gYXdnOy_WCO",
        "outputId": "b2e45c07-f53a-4448-851b-ccef2efd6829"
      },
      "execution_count": null,
      "outputs": [
        {
          "output_type": "stream",
          "name": "stdout",
          "text": [
            "=== scikit-learn Model Results (Predicting Side Effect) ===\n",
            "SVM Metrics:\n",
            "Accuracy: 0.2428958051420839\n",
            "Precision: 0.22289131631320808\n",
            "Recall: 0.2428958051420839\n",
            "F1 Score: 0.20561895903785712\n",
            "\n"
          ]
        },
        {
          "output_type": "stream",
          "name": "stderr",
          "text": [
            "/usr/local/lib/python3.11/dist-packages/sklearn/metrics/_classification.py:1565: UndefinedMetricWarning: Precision is ill-defined and being set to 0.0 in labels with no predicted samples. Use `zero_division` parameter to control this behavior.\n",
            "  _warn_prf(average, modifier, f\"{metric.capitalize()} is\", len(result))\n"
          ]
        }
      ]
    },
    {
      "cell_type": "code",
      "source": [
        "#making prediction\n",
        "new_data = {\n",
        "    'age': [30],\n",
        "    'sex': ['Female'],\n",
        "    'height_cm': [160],\n",
        "    'weight_kg': [55],\n",
        "    'BMI': [21.5],\n",
        "    'medical_history': ['Diabetes'],\n",
        "    'drug_name': ['Zolpidem'],\n",
        "    'condition': ['Insomnia'],\n",
        "    'dosage_mg': [100],\n",
        "}"
      ],
      "metadata": {
        "id": "PwazUJyw_V-z"
      },
      "execution_count": null,
      "outputs": []
    },
    {
      "cell_type": "code",
      "source": [
        "new_df = pd.DataFrame(new_data)\n",
        "new_data_transformed = preprocessor.transform(new_df)"
      ],
      "metadata": {
        "id": "ysVVE3SEGGnH"
      },
      "execution_count": null,
      "outputs": []
    },
    {
      "cell_type": "code",
      "source": [
        "print(\"=== scikit-learn Models Predictions ===\")\n",
        "for name, model in models.items():\n",
        "    pred = model.predict(new_data_transformed)\n",
        "\n",
        "    pred_label = le.inverse_transform(pred)\n",
        "    print(f\"{name} Prediction: {pred_label[0]}\")"
      ],
      "metadata": {
        "id": "36M3Wa8LGGv4",
        "outputId": "2593abbf-b5fd-4dc9-d184-5bd86933d77d",
        "colab": {
          "base_uri": "https://localhost:8080/"
        }
      },
      "execution_count": null,
      "outputs": [
        {
          "output_type": "stream",
          "name": "stdout",
          "text": [
            "=== scikit-learn Models Predictions ===\n",
            "SVM Prediction: headache\n"
          ]
        }
      ]
    },
    {
      "cell_type": "code",
      "source": [],
      "metadata": {
        "id": "0nOPIyWIGG1o"
      },
      "execution_count": null,
      "outputs": []
    },
    {
      "cell_type": "code",
      "source": [],
      "metadata": {
        "id": "FlROtaBEGG5A"
      },
      "execution_count": null,
      "outputs": []
    }
  ]
}